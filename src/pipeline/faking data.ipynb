{
 "cells": [
  {
   "cell_type": "code",
   "execution_count": null,
   "id": "f8516da8-bac7-44c7-a2a8-843f46a19ed7",
   "metadata": {},
   "outputs": [],
   "source": [
    "%load_ext autoreload\n",
    "%autoreload 2\n",
    "\n",
    "import os\n",
    "import sys\n",
    "import math\n",
    "\n",
    "import pandas as pd\n",
    "import pandas_gbq\n",
    "import numpy as np\n",
    "\n",
    "# Import from local data files\n",
    "current_path = os.path.abspath('.')\n",
    "sys.path.append(os.path.dirname(current_path))\n",
    "\n",
    "from data_access.data_factory import DataFactory as factory\n",
    "from data_access import prep_pipeline as pp\n",
    "from utils import data as dt\n",
    "from utils import config as cf"
   ]
  },
  {
   "cell_type": "code",
   "execution_count": null,
   "id": "02522505-46b8-4fe9-8f64-83ffb3dc4600",
   "metadata": {},
   "outputs": [],
   "source": [
    "static_df = pp.read_data('static')"
   ]
  },
  {
   "cell_type": "code",
   "execution_count": null,
   "id": "3344b040-db6f-46fd-b7a9-00b9ceb6ca60",
   "metadata": {},
   "outputs": [],
   "source": [
    "static_vars = factory.get('static_vars').create_dataframe()"
   ]
  },
  {
   "cell_type": "code",
   "execution_count": null,
   "id": "4004e162-8327-4724-aaa1-4c8f0a8a316c",
   "metadata": {},
   "outputs": [],
   "source": [
    "static_vars_fake = pd.DataFrame()\n",
    "\n",
    "region_cols = ['LSOA11CD', 'LSOA11NM', 'MSOA11CD', 'MSOA11NM', 'LTLA20CD', 'LTLA20NM',\n",
    "       'UTLA20CD', 'UTLA20NM', 'RGN19CD', 'RGN19NM']\n",
    "\n",
    "static_vars_fake[region_cols] = static_vars[region_cols].sample(n=1000).reset_index(drop=True)\n",
    "\n",
    "static_vars_filt = static_vars[static_vars['LSOA11CD'].str.startswith('E')]\n",
    "\n",
    "for col in [col for col in static_vars_filt.columns if col not in region_cols]:\n",
    "    static_vars_fake[col] = static_vars_filt[col].sample(n=1000).reset_index(drop=True)"
   ]
  },
  {
   "cell_type": "code",
   "execution_count": null,
   "id": "77692012-a9e2-486d-bd9a-865992d8bed0",
   "metadata": {},
   "outputs": [],
   "source": [
    "static_vars_fake.to_gbq('wip.unit_test_static_vars', project_id = 'ons-hotspot-prod')"
   ]
  },
  {
   "cell_type": "code",
   "execution_count": null,
   "id": "9207b627-2263-4f36-8296-0a72bbc67d1e",
   "metadata": {},
   "outputs": [],
   "source": [
    "mid_year_lsoa = factory.get('mid_year_lsoa').create_dataframe()"
   ]
  },
  {
   "cell_type": "code",
   "execution_count": null,
   "id": "75c379a5-ac1b-48b6-90fd-855d54074040",
   "metadata": {},
   "outputs": [],
   "source": [
    "# this is publically available so no need to fudge the join in any way\n",
    "mid_year_lsoa.head()"
   ]
  },
  {
   "cell_type": "code",
   "execution_count": null,
   "id": "7dc83bbf-7876-4988-aa4d-13a8ed0f9c0e",
   "metadata": {},
   "outputs": [],
   "source": [
    "lsoa_list = static_vars_fake['LSOA11CD'].unique()\n",
    "mid_year_lsoa = mid_year_lsoa[mid_year_lsoa['LSOA11CD'].isin(lsoa_list)]"
   ]
  },
  {
   "cell_type": "code",
   "execution_count": null,
   "id": "0b46a6b2-3726-413f-b341-2268f6a3a4a1",
   "metadata": {},
   "outputs": [],
   "source": [
    "mid_year_lsoa.to_gbq('wip.unit_test_mid_year_lsoa', project_id = 'ons-hotspot-prod')"
   ]
  },
  {
   "cell_type": "code",
   "execution_count": null,
   "id": "ca33f1a4-41c4-48d4-9cf2-aca5077b4e46",
   "metadata": {},
   "outputs": [],
   "source": [
    "mobility_clusters_processed = factory.get('mobility_clusters_processed').create_dataframe()"
   ]
  },
  {
   "cell_type": "code",
   "execution_count": null,
   "id": "989ff68f-a2cb-4ec8-8fdf-fac3c6a6b1d6",
   "metadata": {},
   "outputs": [],
   "source": [
    "mob = mobility_clusters_processed.sample(n=1000).reset_index(drop=True)\n",
    "\n",
    "mob['LSOA11CD'] = lsoa_list\n",
    "mob"
   ]
  },
  {
   "cell_type": "code",
   "execution_count": null,
   "id": "9b3449ae-e9f2-44c5-8ca5-b580a366d2ed",
   "metadata": {},
   "outputs": [],
   "source": [
    "mob.to_gbq('wip.unit_test_mobility_clusters', project_id = 'ons-hotspot-prod')"
   ]
  },
  {
   "cell_type": "code",
   "execution_count": null,
   "id": "053aeec3-298b-4b40-b568-324cf912ea91",
   "metadata": {},
   "outputs": [],
   "source": [
    "flow_to_work = factory.get('flow_to_work').create_dataframe()"
   ]
  },
  {
   "cell_type": "code",
   "execution_count": null,
   "id": "68e257ed-a092-4c4c-bfcd-3de670143743",
   "metadata": {},
   "outputs": [],
   "source": [
    "flow = flow_to_work.sample(n=1000)\n",
    "\n",
    "flow['LSOA11CD'] = lsoa_list"
   ]
  },
  {
   "cell_type": "code",
   "execution_count": null,
   "id": "e68623f5-1830-45e6-8509-eefe5836a473",
   "metadata": {},
   "outputs": [],
   "source": [
    "flow.to_gbq('wip.unit_test_flow_to_work', project_id = 'ons-hotspot-prod')"
   ]
  },
  {
   "cell_type": "code",
   "execution_count": null,
   "id": "9d392bcb-e65e-4b61-b8ce-676982101ea0",
   "metadata": {},
   "outputs": [],
   "source": [
    "lsoa_2011 = factory.get('LSOA_2011').create_dataframe() # this is also publically available"
   ]
  },
  {
   "cell_type": "code",
   "execution_count": null,
   "id": "8babe744-b5f5-497c-9531-27d841acd102",
   "metadata": {},
   "outputs": [],
   "source": [
    "lsoa_2011 = lsoa_2011[lsoa_2011['LSOA11CD'].isin(lsoa_list)]"
   ]
  },
  {
   "cell_type": "code",
   "execution_count": null,
   "id": "f1c45b5a-28ef-4449-b702-f63dc064f1f6",
   "metadata": {},
   "outputs": [],
   "source": [
    "lsoa_2011.to_gbq('wip.unit_test_lsoa_2011', project_id = 'ons-hotspot-prod')"
   ]
  },
  {
   "cell_type": "code",
   "execution_count": null,
   "id": "5e1b9e30-7caa-4d1f-8f8e-873b5841a3ba",
   "metadata": {},
   "outputs": [],
   "source": [
    "table_list = [mid_year_lsoa,\n",
    "        mob,\n",
    "        flow,\n",
    "        lsoa_2011]\n",
    "\n",
    "df_final = static_vars_fake.copy()\n",
    "\n",
    "for table in table_list:\n",
    "    df_final = df_final.merge(table.copy(), on='LSOA11CD', how='outer', suffixes=['', '_drop'])"
   ]
  },
  {
   "cell_type": "code",
   "execution_count": null,
   "id": "d724ed0f-1f6d-49f8-b70d-71313fa1af75",
   "metadata": {},
   "outputs": [],
   "source": [
    "drop_cols = [col for col in df_final.columns if col.endswith('_drop')]\n",
    "df_final.drop(columns=drop_cols, inplace=True)\n",
    "\n",
    "df_final = df_final[df_final['LSOA11CD'].str.startswith('E')]"
   ]
  },
  {
   "cell_type": "code",
   "execution_count": null,
   "id": "8ba4d379-e63c-4a6a-87c1-ac5b9f39d6b8",
   "metadata": {},
   "outputs": [],
   "source": [
    "df_final2 = factory.get('unit_test_static').create_dataframe()"
   ]
  },
  {
   "cell_type": "code",
   "execution_count": null,
   "id": "628acb9c-65e1-4a47-b6e6-5a4db2751d7a",
   "metadata": {},
   "outputs": [],
   "source": [
    "df_final.sort_values(by='LSOA11CD', inplace=True)\n",
    "df_final.reset_index(drop=True, inplace=True)\n",
    "\n",
    "df_final2.sort_values(by='LSOA11CD', inplace=True)\n",
    "df_final2.reset_index(drop=True, inplace=True)\n",
    "\n",
    "df_final['geometry'] = df_final['geometry'].astype(str)\n",
    "df_final2['geometry'] = df_final2['geometry'].astype(str)\n"
   ]
  },
  {
   "cell_type": "code",
   "execution_count": null,
   "id": "152efacc-19b7-4cfe-9f55-db688536c9ee",
   "metadata": {},
   "outputs": [],
   "source": [
    "pd.testing.assert_frame_equal(df_final, df_final2)"
   ]
  }
 ],
 "metadata": {
  "environment": {
   "name": "pytorch-gpu.1-9.m81",
   "type": "gcloud",
   "uri": "gcr.io/deeplearning-platform-release/pytorch-gpu.1-9:m81"
  },
  "kernelspec": {
   "display_name": "Python 3",
   "language": "python",
   "name": "python3"
  },
  "language_info": {
   "codemirror_mode": {
    "name": "ipython",
    "version": 3
   },
   "file_extension": ".py",
   "mimetype": "text/x-python",
   "name": "python",
   "nbconvert_exporter": "python",
   "pygments_lexer": "ipython3",
   "version": "3.7.10"
  }
 },
 "nbformat": 4,
 "nbformat_minor": 5
}
